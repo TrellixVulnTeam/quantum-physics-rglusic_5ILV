{
 "cells": [
  {
   "cell_type": "markdown",
   "metadata": {},
   "source": [
    "# Approximating the Probability Density for a Harmonic Oscillator\n",
    "As per the problem, we need 1.11(b) solution to begin.\n",
    "\n",
    "$\\rho(x)=\\frac{1}{\\pi\\sqrt{a^2-x^2}}$, where $a$ is our upper bound.\n",
    "\n",
    "Integrating this, one can verify that it is indeed normalized and equal to one from some $-a$ to $a$.\n",
    "\n",
    "This is our analytical solution, now our numerical solution is as follows:\n",
    "\n",
    "$\\rho_{approx}(x)=$a$\\cdot\\cos(\\omega t)$, where we let a and $\\omega$ both equal $1$ as stated in the problem."
   ]
  },
  {
   "cell_type": "code",
   "execution_count": null,
   "metadata": {},
   "outputs": [],
   "source": [
    "import numpy as np\n",
    "import matplotlib.pyplot as plt\n",
    "\n",
    "# Constants\n",
    "a = 5\n",
    "w = 1\n",
    "\n",
    "# Point generation\n",
    "x_inputs = np.linspace(-a, a, 10000)\n",
    "analytical = 1/(np.pi*np.sqrt(a**2-x_inputs**2))\n",
    "approx = a*np.cos(w*x_inputs)\n",
    "\n",
    "# Plot\n",
    "plt.xlabel(\"Position (m)\")\n",
    "plt.ylabel(r\"Wavefunction pdf $\\rho(x)$\")\n",
    "plt.plot(x_inputs, approx, label='approximation')\n",
    "plt.plot(x_inputs, analytical, label='analytical')\n",
    "plt.legend()\n",
    "plt.show()\n"
   ]
  },
  {
   "cell_type": "code",
   "execution_count": null,
   "metadata": {},
   "outputs": [],
   "source": []
  }
 ],
 "metadata": {
  "kernelspec": {
   "display_name": "Python 3.9.0 64-bit ('env')",
   "language": "python",
   "name": "python39064bitenv877f588fe7b94b2ca0b446aa24d189a8"
  },
  "language_info": {
   "codemirror_mode": {
    "name": "ipython",
    "version": 3
   },
   "file_extension": ".py",
   "mimetype": "text/x-python",
   "name": "python",
   "nbconvert_exporter": "python",
   "pygments_lexer": "ipython3",
   "version": "3.9.0"
  }
 },
 "nbformat": 4,
 "nbformat_minor": 2
}
