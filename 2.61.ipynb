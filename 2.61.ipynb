{
 "metadata": {
  "language_info": {
   "codemirror_mode": {
    "name": "ipython",
    "version": 3
   },
   "file_extension": ".py",
   "mimetype": "text/x-python",
   "name": "python",
   "nbconvert_exporter": "python",
   "pygments_lexer": "ipython3",
   "version": "3.9.0-final"
  },
  "orig_nbformat": 2,
  "kernelspec": {
   "name": "python39064bitenv877f588fe7b94b2ca0b446aa24d189a8",
   "display_name": "Python 3.9.0 64-bit ('env')",
   "language": "python"
  }
 },
 "nbformat": 4,
 "nbformat_minor": 2,
 "cells": [
  {
   "source": [
    "# Problem 2.61\n",
    "One way to obtain the allowed energies of a potential well numerically is to turn the Schrödinger equation into a matrix equation, by discretizing the variable x. Slice the relevant interval at evenly spaced points.\n",
    "\n",
    "## $-\\lambda \\psi_{j-1} + (2\\lambda + V_j)\\psi - \\lambda \\psi_{j-1} = E\\psi_j$, where $\\lambda = \\frac{\\hbar^2}{2m(\\Delta x)^2}$"
   ],
   "cell_type": "markdown",
   "metadata": {}
  },
  {
   "cell_type": "code",
   "execution_count": 8,
   "metadata": {},
   "outputs": [
    {
     "output_type": "execute_result",
     "data": {
      "text/plain": [
       "(array([3.99903256e+00, 3.99613119e+00, 3.99129870e+00, 3.98453974e+00,\n",
       "        3.97586088e+00, 3.96527050e+00, 3.95277884e+00, 9.67435416e-04,\n",
       "        3.86880573e-03, 8.70130406e-03, 1.90671922e+00, 1.84463231e+00,\n",
       "        1.96889638e+00, 2.03110362e+00, 2.09328078e+00, 3.93839800e+00,\n",
       "        2.15536769e+00, 1.78269570e+00, 1.54602553e-02, 2.21730430e+00,\n",
       "        2.40161415e+00, 2.34048711e+00, 1.65951289e+00, 1.59838585e+00,\n",
       "        1.53764736e+00, 2.41391205e-02, 2.46235264e+00, 3.90402622e+00,\n",
       "        3.88406853e+00, 1.47735615e+00, 2.52264385e+00, 3.86228812e+00,\n",
       "        3.47295036e-02, 1.41757058e+00, 3.83870608e+00, 4.72211589e-02,\n",
       "        2.58242942e+00, 1.35834846e+00, 6.16020016e-02, 1.29974710e+00,\n",
       "        3.81334520e+00, 2.64165154e+00, 3.78623003e+00, 1.24182319e+00,\n",
       "        2.70025290e+00, 1.15931473e-01, 9.59737849e-02, 1.37711876e-01,\n",
       "        2.75817681e+00, 3.75738680e+00, 1.61293922e-01, 1.07267294e+00,\n",
       "        9.64300750e-01, 1.01801184e+00, 9.11591634e-01, 1.86654798e-01,\n",
       "        2.87176884e+00, 2.92732706e+00, 3.08840837e+00, 3.14006452e+00,\n",
       "        3.19061773e+00, 3.03569925e+00, 8.59935484e-01, 2.13769968e-01,\n",
       "        3.42516793e+00, 3.24001909e+00, 3.46811706e+00, 8.09382271e-01,\n",
       "        3.38084004e+00, 2.42613200e-01, 3.50964588e+00, 7.59980905e-01,\n",
       "        5.31882942e-01, 5.74832072e-01, 4.90354122e-01, 3.33517628e+00,\n",
       "        2.98198816e+00, 6.19159959e-01, 4.50285786e-01, 2.73156590e-01,\n",
       "        3.72684341e+00, 3.54971421e+00, 4.11716698e-01, 3.58828330e+00,\n",
       "        6.64823720e-01, 3.62531583e+00, 3.69462941e+00, 3.74684172e-01,\n",
       "        1.12823116e+00, 3.92214188e+00, 3.05370590e-01, 3.66077597e+00,\n",
       "        3.39224034e-01, 7.78581192e-02, 3.28822082e+00, 7.11779177e-01,\n",
       "        1.18463277e+00, 2.81536723e+00, 1.72096932e+00, 2.27903068e+00]),\n",
       " array([[-0.00437636,  0.00874848, -0.01311214, ...,  0.12849426,\n",
       "          0.13934326, -0.13934326],\n",
       "        [ 0.00874848, -0.01746312,  0.02611019, ..., -0.10477001,\n",
       "          0.03888104,  0.03888104],\n",
       "        [-0.01311214,  0.02611019, -0.03888104, ..., -0.04306823,\n",
       "         -0.12849426,  0.12849426],\n",
       "        ...,\n",
       "        [ 0.01311214,  0.02611019,  0.03888104, ...,  0.04306823,\n",
       "          0.12849426,  0.12849426],\n",
       "        [-0.00874848, -0.01746312, -0.02611019, ...,  0.10477001,\n",
       "         -0.03888104,  0.03888104],\n",
       "        [ 0.00437636,  0.00874848,  0.01311214, ..., -0.12849426,\n",
       "         -0.13934326, -0.13934326]]))"
      ]
     },
     "metadata": {},
     "execution_count": 8
    }
   ],
   "source": [
    "# Create Hamiltonian Matrix\n",
    "import numpy as np\n",
    "def create_hamiltonian(dimension, end_point=0):\n",
    "    x_naught = 0.\n",
    "    x_end    = end_point\n",
    "    delta_x  = end_point/(dimension+1)\n",
    "    potential_well = 0. # Always zero inside the well\n",
    "\n",
    "    # Let hbar = 1, m = 1.\n",
    "    ham_mat = np.zeros((dimension,dimension), float)\n",
    "    np.fill_diagonal(ham_mat[:,1:], -1)\n",
    "    np.fill_diagonal(ham_mat, 2)\n",
    "    np.fill_diagonal(ham_mat[1:], -1)\n",
    "    w, v = np.linalg.eig(ham_mat)\n",
    "    return (w,v)\n",
    "create_hamiltonian(100)\n"
   ]
  },
  {
   "cell_type": "code",
   "execution_count": null,
   "metadata": {},
   "outputs": [],
   "source": []
  }
 ]
}