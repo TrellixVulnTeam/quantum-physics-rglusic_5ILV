{
 "metadata": {
  "language_info": {
   "codemirror_mode": {
    "name": "ipython",
    "version": 3
   },
   "file_extension": ".py",
   "mimetype": "text/x-python",
   "name": "python",
   "nbconvert_exporter": "python",
   "pygments_lexer": "ipython3",
   "version": "3.9.0"
  },
  "orig_nbformat": 2,
  "kernelspec": {
   "name": "python39064bitenvvenvfe5b046d70754a4c9703a4c63db9c6c7",
   "display_name": "Python 3.9.0 64-bit ('env': venv)",
   "language": "python"
  }
 },
 "nbformat": 4,
 "nbformat_minor": 2,
 "cells": [
  {
   "source": [
    "# Gram-Schmidt Orthonormalization\n",
    "The following produces the Gram-Schmit orthonormalization on arbitrary basis vectors. In the case of this example, we will be using the following vectors:\n",
    "\n",
    "$|𝑒1⟩=(1+𝑖)𝑖̂+(1)𝑗̂+(𝑖)𝑘̂$, $|𝑒2⟩=(𝑖)𝑖̂+(3)𝑗̂+(1)𝑘̂$, $|𝑒3⟩=(0)𝑖̂+(28)𝑗̂+(8)𝑘̂$"
   ],
   "cell_type": "markdown",
   "metadata": {}
  },
  {
   "source": [
    "# The Gram-Schmidt\n",
    "We can create our Gram-Schmit Orthonormalization function:"
   ],
   "cell_type": "markdown",
   "metadata": {}
  },
  {
   "cell_type": "code",
   "execution_count": 2,
   "metadata": {},
   "outputs": [],
   "source": [
    "import numpy as np\n",
    "def gram_schmidt(vectors):\n",
    "    bases = []\n",
    "    for vec in vectors:\n",
    "        w = vec - np.sum(np.dot(vec, q) * q for q in bases)\n",
    "        bases.append(w / np.linalg.norm(w))\n",
    "    return np.array(bases)"
   ]
  },
  {
   "source": [
    "# Example Bases\n",
    "Let's now use our `gram_schmidt` function to evaluate the original bases given at the top of this page:\n",
    "\n",
    "$|𝑒1⟩=(1+𝑖)𝑖̂+(1)𝑗̂+(𝑖)𝑘̂$, $|𝑒2⟩=(𝑖)𝑖̂+(3)𝑗̂+(1)𝑘̂$, $|𝑒3⟩=(0)𝑖̂+(28)𝑗̂+(8)𝑘̂$"
   ],
   "cell_type": "markdown",
   "metadata": {}
  },
  {
   "cell_type": "code",
   "execution_count": 3,
   "metadata": {},
   "outputs": [
    {
     "output_type": "stream",
     "name": "stdout",
     "text": [
      "[[0.57735027+0.57735027j 0.        +0.57735027j 0.        +0.j        ]\n [0.0702873 -0.05857275j 0.15228915-0.01171455j 0.98402221+0.j        ]\n [0.31547059+0.83647199j 0.32032088+0.30859935j 0.03395199-0.04243999j]]\n"
     ]
    }
   ],
   "source": [
    "bases = np.array([\n",
    "    [1+1.j, 1., 1.j],\n",
    "    [1.j, 3., 1.],\n",
    "    [0., 28., 8.]\n",
    "]).T\n",
    "\n",
    "print(gram_schmidt(bases))"
   ]
  },
  {
   "source": [
    "# Another Example\n",
    "Below I test the following basis vectors as required by the Homework 3B assignment:\n",
    "$ |𝑒1⟩=(1+𝑖)𝑖̂+(1)𝑗̂+(𝑖)𝑘̂, |𝑒2⟩=(𝑖)𝑖̂+(3)𝑗̂+(1)𝑘̂, |𝑒3⟩=(0)𝑖̂+(28)𝑗̂+(8)𝑘$\n",
    "\n",
    "Note: I enter them as row vectors, then transpose them using .T as it's easier to type."
   ],
   "cell_type": "markdown",
   "metadata": {}
  },
  {
   "cell_type": "code",
   "execution_count": 4,
   "metadata": {},
   "outputs": [
    {
     "output_type": "stream",
     "name": "stdout",
     "text": [
      "[[0.57735027+0.57735027j 0.        +0.57735027j 0.        +0.j        ]\n [0.0702873 -0.05857275j 0.15228915-0.01171455j 0.98402221+0.j        ]\n [0.31547059+0.83647199j 0.32032088+0.30859935j 0.03395199-0.04243999j]]\n"
     ]
    }
   ],
   "source": [
    "bases_2 = np.array([\n",
    "    [1+1.j, 1, 1.j],\n",
    "    [1.j, 3, 1],\n",
    "    [0, 28, 8]\n",
    "]).T\n",
    "\n",
    "print(gram_schmidt(bases_2))"
   ]
  },
  {
   "cell_type": "code",
   "execution_count": null,
   "metadata": {},
   "outputs": [],
   "source": []
  }
 ]
}